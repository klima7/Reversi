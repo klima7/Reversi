{
 "cells": [
  {
   "cell_type": "code",
   "execution_count": 1,
   "outputs": [],
   "source": [
    "from environment import Environment\n",
    "from game_state import GameState\n",
    "import board\n",
    "from board import Color"
   ],
   "metadata": {
    "collapsed": false,
    "pycharm": {
     "name": "#%%\n"
    }
   }
  },
  {
   "cell_type": "code",
   "execution_count": 2,
   "outputs": [],
   "source": [
    "game_state = GameState((3, 3))\n",
    "env = Environment(game_state, Color.WHITE)"
   ],
   "metadata": {
    "collapsed": false,
    "pycharm": {
     "name": "#%%\n"
    }
   }
  },
  {
   "cell_type": "code",
   "execution_count": 3,
   "outputs": [
    {
     "name": "stdout",
     "output_type": "stream",
     "text": [
      "-1 1\n",
      "-1\n",
      "[[ 1 -1  0]\n",
      " [-1  1  0]\n",
      " [ 0  0  0]]\n",
      "[[ 1 -1 -1]\n",
      " [-1  1  0]\n",
      " [ 0  0  0]]\n"
     ]
    }
   ],
   "source": [
    "game_state = GameState((3, 3))\n",
    "print(Color.BLACK, Color.WHITE)\n",
    "print(game_state.turn_color)\n",
    "print(game_state.board)\n",
    "game_state.make_move((0, 2))\n",
    "print(game_state.board)"
   ],
   "metadata": {
    "collapsed": false,
    "pycharm": {
     "name": "#%%\n"
    }
   }
  },
  {
   "cell_type": "code",
   "execution_count": 8,
   "outputs": [
    {
     "name": "stdout",
     "output_type": "stream",
     "text": [
      "-1\n",
      "[[ 1 -1  0]\n",
      " [-1  1  0]\n",
      " [ 0  0  0]]\n"
     ]
    },
    {
     "data": {
      "text/plain": "((1, 2), (2, 1))"
     },
     "execution_count": 8,
     "metadata": {},
     "output_type": "execute_result"
    }
   ],
   "source": [
    "game_state = GameState((3, 3))\n",
    "print(game_state.turn_color)\n",
    "print(game_state.board)\n",
    "game_state.get_moves()"
   ],
   "metadata": {
    "collapsed": false,
    "pycharm": {
     "name": "#%%\n"
    }
   }
  },
  {
   "cell_type": "code",
   "execution_count": 7,
   "outputs": [
    {
     "ename": "ValueError",
     "evalue": "cannot reshape array of size 81 into shape (3,3)",
     "output_type": "error",
     "traceback": [
      "\u001B[1;31m---------------------------------------------------------------------------\u001B[0m",
      "\u001B[1;31mValueError\u001B[0m                                Traceback (most recent call last)",
      "Input \u001B[1;32mIn [7]\u001B[0m, in \u001B[0;36m<cell line: 2>\u001B[1;34m()\u001B[0m\n\u001B[0;32m      1\u001B[0m states \u001B[38;5;241m=\u001B[39m env\u001B[38;5;241m.\u001B[39m_Environment__generate_all_abs_boards()\n\u001B[0;32m      2\u001B[0m \u001B[38;5;28;01mfor\u001B[39;00m state \u001B[38;5;129;01min\u001B[39;00m states:\n\u001B[1;32m----> 3\u001B[0m     b \u001B[38;5;241m=\u001B[39m \u001B[43mboard\u001B[49m\u001B[38;5;241;43m.\u001B[39;49m\u001B[43mretrieve_from_number\u001B[49m\u001B[43m(\u001B[49m\u001B[43mstate\u001B[49m\u001B[43m,\u001B[49m\u001B[43m \u001B[49m\u001B[43m(\u001B[49m\u001B[38;5;241;43m3\u001B[39;49m\u001B[43m,\u001B[49m\u001B[43m \u001B[49m\u001B[38;5;241;43m3\u001B[39;49m\u001B[43m)\u001B[49m\u001B[43m)\u001B[49m\n\u001B[0;32m      4\u001B[0m     board\u001B[38;5;241m.\u001B[39mplot(b)\n",
      "File \u001B[1;32m~\\OneDrive - Politechnika Łódzka\\siium\\semestr-2\\uzw\\project\\reversi\\src\\board.py:53\u001B[0m, in \u001B[0;36mretrieve_from_number\u001B[1;34m(number, size)\u001B[0m\n\u001B[0;32m     51\u001B[0m     values\u001B[38;5;241m.\u001B[39minsert(\u001B[38;5;241m0\u001B[39m, value\u001B[38;5;241m-\u001B[39m\u001B[38;5;241m1\u001B[39m)\n\u001B[0;32m     52\u001B[0m     number \u001B[38;5;241m>>\u001B[39m\u001B[38;5;241m=\u001B[39m \u001B[38;5;241m2\u001B[39m\n\u001B[1;32m---> 53\u001B[0m \u001B[38;5;28;01mreturn\u001B[39;00m \u001B[43mnp\u001B[49m\u001B[38;5;241;43m.\u001B[39;49m\u001B[43marray\u001B[49m\u001B[43m(\u001B[49m\u001B[43mvalues\u001B[49m\u001B[43m)\u001B[49m\u001B[38;5;241;43m.\u001B[39;49m\u001B[43mastype\u001B[49m\u001B[43m(\u001B[49m\u001B[43mnp\u001B[49m\u001B[38;5;241;43m.\u001B[39;49m\u001B[43mint_\u001B[49m\u001B[43m)\u001B[49m\u001B[38;5;241;43m.\u001B[39;49m\u001B[43mreshape\u001B[49m\u001B[43m(\u001B[49m\u001B[43msize\u001B[49m\u001B[43m)\u001B[49m\n",
      "\u001B[1;31mValueError\u001B[0m: cannot reshape array of size 81 into shape (3,3)"
     ]
    }
   ],
   "source": [
    "states = env.get_all_states()\n",
    "for state in states:\n",
    "    b = board.retrieve_from_number(state, (3, 3))\n",
    "    board.plot(b)"
   ],
   "metadata": {
    "collapsed": false,
    "pycharm": {
     "name": "#%%\n"
    }
   }
  },
  {
   "cell_type": "code",
   "execution_count": 6,
   "outputs": [
    {
     "name": "stdout",
     "output_type": "stream",
     "text": [
      "[[ 1 -1  0]\n",
      " [-1  1  0]\n",
      " [ 0  0  0]]\n",
      "\n",
      "[[ 1 -1  0]\n",
      " [-1 -1 -1]\n",
      " [ 0  0  0]]\n",
      "\n",
      "[[ 1 -1  0]\n",
      " [-1 -1  0]\n",
      " [ 0 -1  0]]\n",
      "\n",
      "[[ 1  1  1]\n",
      " [-1 -1 -1]\n",
      " [ 0  0  0]]\n",
      "\n",
      "[[ 1 -1  0]\n",
      " [ 1 -1 -1]\n",
      " [ 1  0  0]]\n",
      "\n",
      "[[ 1 -1  0]\n",
      " [-1  1 -1]\n",
      " [ 0  0  1]]\n",
      "\n",
      "[[ 1  1  1]\n",
      " [-1 -1  0]\n",
      " [ 0 -1  0]]\n",
      "\n",
      "[[ 1 -1  0]\n",
      " [ 1 -1  0]\n",
      " [ 1 -1  0]]\n",
      "\n",
      "[[ 1 -1  0]\n",
      " [-1  1  0]\n",
      " [ 0 -1  1]]\n",
      "\n",
      "[[ 1  1  1]\n",
      " [ 1  1 -1]\n",
      " [ 1  0  0]]\n",
      "\n",
      "[[ 1  1  1]\n",
      " [-1  1 -1]\n",
      " [ 0  1  0]]\n",
      "\n",
      "[[ 1  1  1]\n",
      " [-1  1  1]\n",
      " [ 0  0  1]]\n",
      "\n",
      "[[ 1 -1  0]\n",
      " [ 1  1 -1]\n",
      " [ 1  0  1]]\n",
      "\n",
      "[[ 1 -1  0]\n",
      " [-1 -1 -1]\n",
      " [ 0 -1  1]]\n",
      "\n",
      "[[ 1  1  1]\n",
      " [ 1  1  0]\n",
      " [ 1 -1  0]]\n",
      "\n",
      "[[ 1  1  1]\n",
      " [-1  1  0]\n",
      " [ 0 -1  1]]\n",
      "\n",
      "[[ 1 -1  0]\n",
      " [ 1  1  1]\n",
      " [ 1 -1  0]]\n",
      "\n",
      "[[ 1 -1  0]\n",
      " [ 1  1  0]\n",
      " [ 1  1  1]]\n",
      "\n",
      "[[1 1 1]\n",
      " [1 1 1]\n",
      " [1 0 1]]\n",
      "\n",
      "[[ 1  1  1]\n",
      " [ 1  1 -1]\n",
      " [ 1  1  0]]\n",
      "\n",
      "[[ 1  1  1]\n",
      " [-1  1  1]\n",
      " [ 0  1  1]]\n",
      "\n",
      "[[ 1 -1  0]\n",
      " [ 1 -1 -1]\n",
      " [ 1 -1  1]]\n",
      "\n",
      "[[ 1  1  1]\n",
      " [-1 -1  1]\n",
      " [ 0 -1  1]]\n",
      "\n",
      "[[ 1 -1  0]\n",
      " [ 1 -1 -1]\n",
      " [ 1  1  1]]\n",
      "\n",
      "[[1 1 1]\n",
      " [1 1 0]\n",
      " [1 1 1]]\n",
      "\n",
      "[[ 1  1  1]\n",
      " [-1 -1 -1]\n",
      " [ 0 -1  1]]\n",
      "\n",
      "[[ 1  1  1]\n",
      " [ 1  1  1]\n",
      " [ 1 -1  0]]\n",
      "\n",
      "[[ 1 -1  0]\n",
      " [ 1  1  1]\n",
      " [ 1  1  1]]\n",
      "\n",
      "[[1 1 1]\n",
      " [1 1 1]\n",
      " [1 1 1]]\n",
      "\n",
      "[[ 1  1  1]\n",
      " [ 1  1  1]\n",
      " [ 1 -1  1]]\n",
      "\n",
      "[[ 1  1  1]\n",
      " [ 1  1 -1]\n",
      " [ 1  1  1]]\n",
      "\n"
     ]
    }
   ],
   "source": [
    "states = env._Environment__generate_all_abs_boards()\n",
    "for state in states:\n",
    "    print(state, end='\\n\\n')"
   ],
   "metadata": {
    "collapsed": false,
    "pycharm": {
     "name": "#%%\n"
    }
   }
  }
 ],
 "metadata": {
  "kernelspec": {
   "display_name": "Python 3",
   "language": "python",
   "name": "python3"
  },
  "language_info": {
   "codemirror_mode": {
    "name": "ipython",
    "version": 2
   },
   "file_extension": ".py",
   "mimetype": "text/x-python",
   "name": "python",
   "nbconvert_exporter": "python",
   "pygments_lexer": "ipython2",
   "version": "2.7.6"
  }
 },
 "nbformat": 4,
 "nbformat_minor": 0
}