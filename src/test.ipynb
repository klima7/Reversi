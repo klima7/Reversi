{
 "cells": [
  {
   "cell_type": "code",
   "execution_count": 1,
   "outputs": [],
   "source": [
    "from copy import deepcopy\n",
    "from time import time\n",
    "\n",
    "import numba\n",
    "import numpy as np\n",
    "\n",
    "import board\n",
    "from board import Color\n",
    "from game_state import GameState"
   ],
   "metadata": {
    "collapsed": false,
    "pycharm": {
     "name": "#%%\n"
    }
   }
  },
  {
   "cell_type": "code",
   "execution_count": 2,
   "outputs": [],
   "source": [
    "def generate_all_states(size):\n",
    "    results = []\n",
    "    game_states = [GameState(size)]\n",
    "    done_game_states = set()\n",
    "\n",
    "    # i = 0\n",
    "    while game_states:\n",
    "        game_state = game_states.pop(0)\n",
    "\n",
    "        number = game_state.to_number()\n",
    "        if number in done_game_states:\n",
    "            continue\n",
    "\n",
    "        results.append(game_state.board)\n",
    "        done_game_states.add(number)\n",
    "\n",
    "        legal_moves = game_state.get_moves()\n",
    "        for legal_move in legal_moves:\n",
    "            next_game_state = deepcopy(game_state)\n",
    "            next_game_state.make_move(legal_move)\n",
    "            game_states.append(next_game_state)\n",
    "\n",
    "        # i += 1\n",
    "        # if i % 200 == 0:\n",
    "        #     not_zeros = np.sum(game_states[0].board != 0)\n",
    "        #     # game_states[0].plot()\n",
    "        #     print(i, not_zeros)\n",
    "\n",
    "\n",
    "    return results"
   ],
   "metadata": {
    "collapsed": false,
    "pycharm": {
     "name": "#%%\n"
    }
   }
  },
  {
   "cell_type": "code",
   "execution_count": 3,
   "outputs": [],
   "source": [
    "def relativize_states(states):\n"
   ],
   "metadata": {
    "collapsed": false,
    "pycharm": {
     "name": "#%%\n"
    }
   }
  },
  {
   "cell_type": "code",
   "execution_count": 4,
   "outputs": [
    {
     "name": "stdout",
     "output_type": "stream",
     "text": [
      "31\n"
     ]
    }
   ],
   "source": [
    "states_3x3 = generate_all_states((3, 3))\n",
    "print(len(states_3x3))"
   ],
   "metadata": {
    "collapsed": false,
    "pycharm": {
     "name": "#%%\n"
    }
   }
  },
  {
   "cell_type": "code",
   "execution_count": 5,
   "outputs": [
    {
     "name": "stdout",
     "output_type": "stream",
     "text": [
      "62\n"
     ]
    }
   ],
   "source": [
    "rel_states_3x3 = relativize_states(states_3x3)\n",
    "print(len(rel_states_3x3))"
   ],
   "metadata": {
    "collapsed": false,
    "pycharm": {
     "name": "#%%\n"
    }
   }
  },
  {
   "cell_type": "code",
   "execution_count": 21,
   "outputs": [
    {
     "name": "stdout",
     "output_type": "stream",
     "text": [
      "292\n"
     ]
    }
   ],
   "source": [
    "states_4x3 = generate_all_states((4, 3))\n",
    "print(len(states_4x3))"
   ],
   "metadata": {
    "collapsed": false,
    "pycharm": {
     "name": "#%%\n"
    }
   }
  },
  {
   "cell_type": "code",
   "execution_count": 22,
   "outputs": [
    {
     "name": "stdout",
     "output_type": "stream",
     "text": [
      "562\n"
     ]
    }
   ],
   "source": [
    "rel_states_4x3 = relativize_states(states_4x3)\n",
    "print(len(rel_states_4x3))"
   ],
   "metadata": {
    "collapsed": false,
    "pycharm": {
     "name": "#%%\n"
    }
   }
  },
  {
   "cell_type": "code",
   "execution_count": 24,
   "outputs": [
    {
     "name": "stdout",
     "output_type": "stream",
     "text": [
      "53801\n"
     ]
    }
   ],
   "source": [
    "states_4x4 = generate_all_states((4, 4))\n",
    "print(len(states_4x4))"
   ],
   "metadata": {
    "collapsed": false,
    "pycharm": {
     "name": "#%%\n"
    }
   }
  },
  {
   "cell_type": "code",
   "execution_count": 25,
   "outputs": [
    {
     "name": "stdout",
     "output_type": "stream",
     "text": [
      "96194\n"
     ]
    }
   ],
   "source": [
    "rel_states_4x4 = relativize_states(states_4x4)\n",
    "print(len(rel_states_4x4))"
   ],
   "metadata": {
    "collapsed": false,
    "pycharm": {
     "name": "#%%\n"
    }
   }
  }
 ],
 "metadata": {
  "kernelspec": {
   "display_name": "Python 3",
   "language": "python",
   "name": "python3"
  },
  "language_info": {
   "codemirror_mode": {
    "name": "ipython",
    "version": 2
   },
   "file_extension": ".py",
   "mimetype": "text/x-python",
   "name": "python",
   "nbconvert_exporter": "python",
   "pygments_lexer": "ipython2",
   "version": "2.7.6"
  }
 },
 "nbformat": 4,
 "nbformat_minor": 0
}